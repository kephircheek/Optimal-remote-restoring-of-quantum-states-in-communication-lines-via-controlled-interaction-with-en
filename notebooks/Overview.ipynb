{
 "cells": [
  {
   "cell_type": "markdown",
   "id": "2511b275-5445-42aa-9ffd-c2c245faba0d",
   "metadata": {},
   "source": [
    "# Overview optimal remote restoring via controlled interaction with environment"
   ]
  },
  {
   "cell_type": "code",
   "execution_count": 1,
   "id": "ce52e340-e3dc-40f9-9bfd-b1ef7d2b15b6",
   "metadata": {},
   "outputs": [],
   "source": [
    "from IPython.display import display"
   ]
  },
  {
   "cell_type": "code",
   "execution_count": 2,
   "id": "6f416adb-3503-4fbd-b03a-0c30ce319a6d",
   "metadata": {},
   "outputs": [],
   "source": [
    "import numpy as np\n",
    "import sympy as sp\n",
    "import timeti\n",
    "\n",
    "from quanty.state.coherence import coherence_matrix\n",
    "from quanty.geometry import UniformChain\n",
    "from quanty.hamiltonian import XX, XXZ\n",
    "from quanty.model.homo import Homogeneous\n",
    "from quanty.state.coherence import coherence_matrix\n",
    "from quanty.task.transfer_ import FitTransmissionTimeTask"
   ]
  },
  {
   "cell_type": "code",
   "execution_count": 3,
   "id": "0fdae674-40b5-4f4a-b2cc-c6f6b6bf2402",
   "metadata": {},
   "outputs": [],
   "source": [
    "import sys, pathlib\n",
    "\n",
    "sys.path.append(str(pathlib.Path.cwd().parent))"
   ]
  },
  {
   "cell_type": "code",
   "execution_count": 4,
   "id": "f36217e7-ada2-4935-8c2a-d6da3843d0be",
   "metadata": {},
   "outputs": [],
   "source": [
    "%load_ext autoreload\n",
    "%autoreload 2\n",
    "\n",
    "from orrvciwe import TransferProblem, TransferTask"
   ]
  },
  {
   "cell_type": "markdown",
   "id": "1278bf3a-3a6a-432a-9f2a-0a6bc2b20efa",
   "metadata": {},
   "source": [
    "## Overvew transfer"
   ]
  },
  {
   "cell_type": "markdown",
   "id": "e0dff7d9-4590-42f3-99bb-e0df71461ed6",
   "metadata": {},
   "source": [
    "**Create a problem**"
   ]
  },
  {
   "cell_type": "code",
   "execution_count": 5,
   "id": "5a5b9470-55fd-46f4-b1b9-51780cc8239d",
   "metadata": {},
   "outputs": [],
   "source": [
    "length = 5\n",
    "n_sender = 2\n",
    "excitations = 1"
   ]
  },
  {
   "cell_type": "code",
   "execution_count": 6,
   "id": "6a41ad46-cef3-4bb2-8a3e-85560484c3ba",
   "metadata": {},
   "outputs": [],
   "source": [
    "geometry = UniformChain()\n",
    "model = Homogeneous(geometry)  # All with all !\n",
    "hamiltonian = XXZ(model)\n",
    "problem = TransferProblem.init_classic(\n",
    "    hamiltonian,\n",
    "    length=length,\n",
    "    n_sender=n_sender,\n",
    "    excitations=excitations,\n",
    ")"
   ]
  },
  {
   "cell_type": "markdown",
   "id": "75a826d8-e0d2-4988-9d53-772dcd3f2a1a",
   "metadata": {},
   "source": [
    "**Check XXZ Hamiltonian**"
   ]
  },
  {
   "cell_type": "code",
   "execution_count": 7,
   "id": "3e1ce93b-a3bc-40a5-8a9f-be61e9207f14",
   "metadata": {},
   "outputs": [
    {
     "data": {
      "text/latex": [
       "$\\displaystyle \\left[\\begin{matrix}-2.23 & 0 & 0 & 0 & 0 & 0\\\\0 & -1.05 & 0.5 & 0.0625 & 0.0185 & 0.00781\\\\0 & 0.5 & -0.0703 & 0.5 & 0.0625 & 0.0185\\\\0 & 0.0625 & 0.5 & 0.0177 & 0.5 & 0.0625\\\\0 & 0.0185 & 0.0625 & 0.5 & -0.0703 & 0.5\\\\0 & 0.00781 & 0.0185 & 0.0625 & 0.5 & -1.05\\end{matrix}\\right]$"
      ],
      "text/plain": [
       "Matrix([\n",
       "[-2.23,       0,       0,      0,       0,       0],\n",
       "[    0,   -1.05,     0.5, 0.0625,  0.0185, 0.00781],\n",
       "[    0,     0.5, -0.0703,    0.5,  0.0625,  0.0185],\n",
       "[    0,  0.0625,     0.5, 0.0177,     0.5,  0.0625],\n",
       "[    0,  0.0185,  0.0625,    0.5, -0.0703,     0.5],\n",
       "[    0, 0.00781,  0.0185, 0.0625,     0.5,   -1.05]])"
      ]
     },
     "execution_count": 7,
     "metadata": {},
     "output_type": "execute_result"
    }
   ],
   "source": [
    "sp.Matrix(problem.hamiltonian(length, excitations)).evalf(3)"
   ]
  },
  {
   "cell_type": "markdown",
   "id": "32390b7c-a082-4243-a96c-bf501cacfabf",
   "metadata": {},
   "source": [
    "**Fit transmission time**"
   ]
  },
  {
   "cell_type": "code",
   "execution_count": 8,
   "id": "ce0d9645-518d-4d21-af76-2e0d453c0b25",
   "metadata": {},
   "outputs": [
    {
     "name": "stdout",
     "output_type": "stream",
     "text": [
      "Elapsed time of block: 14 ms\n",
      "4.56617\n"
     ]
    }
   ],
   "source": [
    "task = FitTransmissionTimeTask(problem)\n",
    "with timeti.profiler():\n",
    "    result = task.run()\n",
    "print(result.transmission_time)"
   ]
  },
  {
   "cell_type": "markdown",
   "id": "67202f9d-be0f-49f3-a9df-ec7286958c80",
   "metadata": {},
   "source": [
    "**Fix tunning time**"
   ]
  },
  {
   "cell_type": "code",
   "execution_count": 9,
   "id": "8bd7ea01-64d0-4077-bd30-866c9d80a4d8",
   "metadata": {},
   "outputs": [],
   "source": [
    "tuning_time = 3\n",
    "transmission_time = result.transmission_time - tuning_time"
   ]
  },
  {
   "cell_type": "markdown",
   "id": "e7e33878-e948-4e62-9a4f-a651853d96b8",
   "metadata": {},
   "source": [
    "**Check unitary transform of main evolution by XXZ Hamiltonian**"
   ]
  },
  {
   "cell_type": "code",
   "execution_count": 10,
   "id": "593238b0-36c3-4c5a-81c9-97fe8875fe76",
   "metadata": {},
   "outputs": [
    {
     "data": {
      "text/latex": [
       "$\\displaystyle \\left[\\begin{matrix}-0.938 - 0.347 i & 0 & 0 & 0 & 0 & 0\\\\0 & -0.196 + 0.766 i & 0.437 - 0.353 i & -0.163 - 0.17 i & -0.0648 + 0.0169 i & -0.00704 + 0.00692 i\\\\0 & 0.437 - 0.353 i & 0.512 - 0.0213 i & -0.0539 - 0.581 i & -0.269 - 0.0663 i & -0.0648 + 0.0169 i\\\\0 & -0.163 - 0.17 i & -0.0539 - 0.581 i & 0.455 + 0.0169 i & -0.0539 - 0.581 i & -0.163 - 0.17 i\\\\0 & -0.0648 + 0.0169 i & -0.269 - 0.0663 i & -0.0539 - 0.581 i & 0.512 - 0.0213 i & 0.437 - 0.353 i\\\\0 & -0.00704 + 0.00692 i & -0.0648 + 0.0169 i & -0.163 - 0.17 i & 0.437 - 0.353 i & -0.196 + 0.766 i\\end{matrix}\\right]$"
      ],
      "text/plain": [
       "Matrix([\n",
       "[-0.938 - 0.347*I,                    0,                  0,                 0,                  0,                    0],\n",
       "[               0,     -0.196 + 0.766*I,    0.437 - 0.353*I,   -0.163 - 0.17*I, -0.0648 + 0.0169*I, -0.00704 + 0.00692*I],\n",
       "[               0,      0.437 - 0.353*I,   0.512 - 0.0213*I, -0.0539 - 0.581*I,  -0.269 - 0.0663*I,   -0.0648 + 0.0169*I],\n",
       "[               0,      -0.163 - 0.17*I,  -0.0539 - 0.581*I,  0.455 + 0.0169*I,  -0.0539 - 0.581*I,      -0.163 - 0.17*I],\n",
       "[               0,   -0.0648 + 0.0169*I,  -0.269 - 0.0663*I, -0.0539 - 0.581*I,   0.512 - 0.0213*I,      0.437 - 0.353*I],\n",
       "[               0, -0.00704 + 0.00692*I, -0.0648 + 0.0169*I,   -0.163 - 0.17*I,    0.437 - 0.353*I,     -0.196 + 0.766*I]])"
      ]
     },
     "execution_count": 10,
     "metadata": {},
     "output_type": "execute_result"
    }
   ],
   "source": [
    "sp.Matrix(problem.U(transmission_time)).evalf(3)"
   ]
  },
  {
   "cell_type": "markdown",
   "id": "8fd70a5d-3cb1-4746-97cc-bdfacb642647",
   "metadata": {},
   "source": [
    "**Create transfer task**"
   ]
  },
  {
   "cell_type": "code",
   "execution_count": 11,
   "id": "659e0e73-7837-45a4-8ce5-f48f2e0275bf",
   "metadata": {},
   "outputs": [],
   "source": [
    "features = (\n",
    "    (0, 0, 0.5, 1.5, 1.9),\n",
    "    (0, 0, 1.4, 0.4, 2.2),\n",
    "    (0, 0, 0.2, 1.2, 0.7),\n",
    ")\n",
    "\n",
    "task = TransferTask(\n",
    "    problem=problem,\n",
    "    transmission_time=transmission_time,\n",
    "    tuning_time=tuning_time,\n",
    "    features=features,\n",
    ")"
   ]
  },
  {
   "cell_type": "markdown",
   "id": "3a1eae06-7ae1-401c-9968-21d7967691c9",
   "metadata": {},
   "source": [
    "**Review first order coherence matrix**"
   ]
  },
  {
   "cell_type": "code",
   "execution_count": 12,
   "id": "7b131c07-b277-4f5e-9e28-16245b3a0441",
   "metadata": {},
   "outputs": [
    {
     "data": {
      "text/latex": [
       "$\\displaystyle \\left[\\begin{matrix}0 & x_{01} + i y_{01} & x_{02} + i y_{02}\\\\x_{01} - i y_{01} & 0 & 0\\\\x_{02} - i y_{02} & 0 & 0\\end{matrix}\\right]$"
      ],
      "text/plain": [
       "Matrix([\n",
       "[          0, x01 + I*y01, x02 + I*y02],\n",
       "[x01 - I*y01,           0,           0],\n",
       "[x02 - I*y02,           0,           0]])"
      ]
     },
     "execution_count": 12,
     "metadata": {},
     "output_type": "execute_result"
    }
   ],
   "source": [
    "sp.Matrix(coherence_matrix(order=1, basis=problem.sender_basis)[-1]).evalf(3)"
   ]
  },
  {
   "cell_type": "markdown",
   "id": "bc2049fd-ee58-4c60-966a-3987230ecf82",
   "metadata": {},
   "source": [
    "**Check problem sender state**"
   ]
  },
  {
   "cell_type": "code",
   "execution_count": 13,
   "id": "32594d68-8a14-44cd-8216-de2d6d0b4b87",
   "metadata": {},
   "outputs": [
    {
     "name": "stdout",
     "output_type": "stream",
     "text": [
      "{r01: (0, 1), r02: (0, 2)}\n"
     ]
    }
   ],
   "source": [
    "print(task.problem.sender_params)"
   ]
  },
  {
   "cell_type": "code",
   "execution_count": 14,
   "id": "59e1ea24-4aa7-42de-b2df-2e9b0c18b485",
   "metadata": {},
   "outputs": [
    {
     "data": {
      "text/latex": [
       "$\\displaystyle \\left[\\begin{matrix}0 & r_{02} & r_{01}\\\\\\overline{r_{02}} & 0 & 0\\\\\\overline{r_{01}} & 0 & 0\\end{matrix}\\right]$"
      ],
      "text/plain": [
       "Matrix([\n",
       "[             0, r02, r01],\n",
       "[conjugate(r02),   0,   0],\n",
       "[conjugate(r01),   0,   0]])"
      ]
     },
     "execution_count": 14,
     "metadata": {},
     "output_type": "execute_result"
    }
   ],
   "source": [
    "sp.Matrix(task.problem.sender_state)"
   ]
  },
  {
   "cell_type": "markdown",
   "id": "7487d12e-2f44-4dff-8df9-d441bd674953",
   "metadata": {},
   "source": [
    "**Initial state of problem**"
   ]
  },
  {
   "cell_type": "code",
   "execution_count": 15,
   "id": "08e0576e-dd5d-4b1e-bc46-318fde096e83",
   "metadata": {},
   "outputs": [
    {
     "data": {
      "text/latex": [
       "$\\displaystyle \\left[\\begin{matrix}0 & 0 & 0 & 0 & r_{02} & r_{01}\\\\0 & 0 & 0 & 0 & 0 & 0\\\\0 & 0 & 0 & 0 & 0 & 0\\\\0 & 0 & 0 & 0 & 0 & 0\\\\\\overline{r_{02}} & 0 & 0 & 0 & 0 & 0\\\\\\overline{r_{01}} & 0 & 0 & 0 & 0 & 0\\end{matrix}\\right]$"
      ],
      "text/plain": [
       "Matrix([\n",
       "[             0, 0, 0, 0, r02, r01],\n",
       "[             0, 0, 0, 0,   0,   0],\n",
       "[             0, 0, 0, 0,   0,   0],\n",
       "[             0, 0, 0, 0,   0,   0],\n",
       "[conjugate(r02), 0, 0, 0,   0,   0],\n",
       "[conjugate(r01), 0, 0, 0,   0,   0]])"
      ]
     },
     "execution_count": 15,
     "metadata": {},
     "output_type": "execute_result"
    }
   ],
   "source": [
    "sp.Matrix(task.problem.initial_state)"
   ]
  },
  {
   "cell_type": "markdown",
   "id": "f82fd2b0-59f6-4065-9c7b-1352481af039",
   "metadata": {},
   "source": [
    "**Overview receiver state impacts**"
   ]
  },
  {
   "cell_type": "code",
   "execution_count": 16,
   "id": "91ced775-7818-4cd9-be79-db5a1ae5ac2a",
   "metadata": {},
   "outputs": [
    {
     "name": "stdout",
     "output_type": "stream",
     "text": [
      "Elapsed time of block: 6 ms\n"
     ]
    }
   ],
   "source": [
    "with timeti.profiler():\n",
    "    impacts = task.receiver_state_impacts(use_cache=False).items()"
   ]
  },
  {
   "cell_type": "code",
   "execution_count": 17,
   "id": "fc2821a2-894e-45d7-a3ae-b621419dd857",
   "metadata": {},
   "outputs": [
    {
     "data": {
      "text/latex": [
       "$\\displaystyle r_{01}$"
      ],
      "text/plain": [
       "r01"
      ]
     },
     "metadata": {},
     "output_type": "display_data"
    },
    {
     "data": {
      "text/latex": [
       "$\\displaystyle \\left[\\begin{matrix}0 & 0.0102535 + 0.0917825 i & 0.0979117 + 0.10008 i\\\\0.0102535 - 0.0917825 i & 0 & 0\\\\0.0979117 - 0.10008 i & 0 & 0\\end{matrix}\\right]$"
      ],
      "text/plain": [
       "Matrix([\n",
       "[                      0, 0.0102535 + 0.0917825*I, 0.0979117 + 0.10008*I],\n",
       "[0.0102535 - 0.0917825*I,                       0,                     0],\n",
       "[  0.0979117 - 0.10008*I,                       0,                     0]])"
      ]
     },
     "metadata": {},
     "output_type": "display_data"
    },
    {
     "data": {
      "text/plain": [
       "(np.float64(0.09791167429957363), np.float64(0.10007965361946632))"
      ]
     },
     "metadata": {},
     "output_type": "display_data"
    },
    {
     "data": {
      "text/latex": [
       "$\\displaystyle r_{02}$"
      ],
      "text/plain": [
       "r02"
      ]
     },
     "metadata": {},
     "output_type": "display_data"
    },
    {
     "data": {
      "text/latex": [
       "$\\displaystyle \\left[\\begin{matrix}0 & 0.0255478 + 0.155741 i & 0.0877139 + 0.246526 i\\\\0.0255478 - 0.155741 i & 0 & 0\\\\0.0877139 - 0.246526 i & 0 & 0\\end{matrix}\\right]$"
      ],
      "text/plain": [
       "Matrix([\n",
       "[                     0, 0.0255478 + 0.155741*I, 0.0877139 + 0.246526*I],\n",
       "[0.0255478 - 0.155741*I,                      0,                      0],\n",
       "[0.0877139 - 0.246526*I,                      0,                      0]])"
      ]
     },
     "metadata": {},
     "output_type": "display_data"
    },
    {
     "data": {
      "text/plain": [
       "(np.float64(0.025547839530431604), np.float64(0.1557406821883558))"
      ]
     },
     "metadata": {},
     "output_type": "display_data"
    },
    {
     "data": {
      "text/plain": [
       "array([0.09791167, 0.10007965, 0.02554784, 0.15574068])"
      ]
     },
     "execution_count": 17,
     "metadata": {},
     "output_type": "execute_result"
    }
   ],
   "source": [
    "[(v1, impact1), (v2, impact2)] = list(impacts)\n",
    "\n",
    "display(v1)\n",
    "display(sp.Matrix(impact1).evalf(6))\n",
    "assert task._residuals(v1, impact1)[0] == impact1[0, 2].real\n",
    "assert task._residuals(v1, impact1)[1] == impact1[0, 2].imag\n",
    "display(task._residuals(v1, impact1))\n",
    "\n",
    "display(v2)\n",
    "display(sp.Matrix(impact2).evalf(6))\n",
    "assert task._residuals(v2, impact2)[0] == impact2[0, 1].real\n",
    "assert task._residuals(v2, impact2)[1] == impact2[0, 1].imag\n",
    "display(task._residuals(v2, impact2))\n",
    "\n",
    "task.perfect_transferred_state_residuals()"
   ]
  },
  {
   "cell_type": "code",
   "execution_count": 18,
   "id": "e26ad601-b4bf-41ec-9cc4-7a24fe5b6788",
   "metadata": {},
   "outputs": [
    {
     "name": "stdout",
     "output_type": "stream",
     "text": [
      "r01*(0.0102535037251317 + 0.0917824441431267*I) + r02*(0.0255478395304316 + 0.155740682188356*I)\n",
      "r01*(0.0979116742995736 + 0.100079653619466*I) + r02*(0.0877138595782704 + 0.246525748551345*I)\n"
     ]
    }
   ],
   "source": [
    "print(*sum(v * i for v, i in impacts)[0, 1:], sep=\"\\n\")"
   ]
  },
  {
   "cell_type": "markdown",
   "id": "97b43541-a32a-4e58-9d48-2cf3a58f871d",
   "metadata": {},
   "source": [
    "**Overview receiver state**"
   ]
  },
  {
   "cell_type": "code",
   "execution_count": 19,
   "id": "e7bec18c-5411-4724-ac55-a0aa98a993ac",
   "metadata": {},
   "outputs": [
    {
     "data": {
      "text/latex": [
       "$\\displaystyle \\left[\\begin{array}{ccc}0 & r_{01} \\left(0.0103 + 0.0918 i\\right) + r_{02} \\left(0.0255 + 0.156 i\\right) & r_{01} \\left(0.0979 + 0.1 i\\right) + r_{02} \\left(0.0877 + 0.247 i\\right)\\\\r_{01} \\left(0.0103 - 0.0918 i\\right) + r_{02} \\left(0.0255 - 0.156 i\\right) & 0 & 0\\\\r_{01} \\left(0.0979 - 0.1 i\\right) + r_{02} \\left(0.0877 - 0.247 i\\right) & 0 & 0\\end{array}\\right]$"
      ],
      "text/plain": [
       "Matrix([\n",
       "[                                               0, r01*(0.0103 + 0.0918*I) + r02*(0.0255 + 0.156*I), r01*(0.0979 + 0.1*I) + r02*(0.0877 + 0.247*I)],\n",
       "[r01*(0.0103 - 0.0918*I) + r02*(0.0255 - 0.156*I),                                                0,                                             0],\n",
       "[   r01*(0.0979 - 0.1*I) + r02*(0.0877 - 0.247*I),                                                0,                                             0]])"
      ]
     },
     "execution_count": 19,
     "metadata": {},
     "output_type": "execute_result"
    }
   ],
   "source": [
    "sp.Matrix(task.receiver_state()).evalf(3)"
   ]
  },
  {
   "cell_type": "markdown",
   "id": "f849d162-13ad-4ef4-9b8e-cbdc05ea2066",
   "metadata": {},
   "source": [
    "**Overvew residuals**"
   ]
  },
  {
   "cell_type": "code",
   "execution_count": 20,
   "id": "cb54d5d8-4e97-4e95-b72e-bd0d25b15be0",
   "metadata": {},
   "outputs": [
    {
     "name": "stdout",
     "output_type": "stream",
     "text": [
      "[0.09791167 0.10007965 0.02554784 0.15574068] 0.37927984963782735\n"
     ]
    }
   ],
   "source": [
    "print(\n",
    "    task.perfect_transferred_state_residuals(), np.sum(task.perfect_transferred_state_residuals())\n",
    ")"
   ]
  },
  {
   "cell_type": "markdown",
   "id": "6832689a-d35c-4bd6-91b8-329e3750c1fb",
   "metadata": {},
   "source": [
    "## Overvew optimization"
   ]
  },
  {
   "cell_type": "code",
   "execution_count": 21,
   "id": "82468d4a-4601-4546-84fb-7ef39ce12148",
   "metadata": {},
   "outputs": [],
   "source": [
    "from scipy import optimize\n",
    "from quanty.optimize import brute_random"
   ]
  },
  {
   "cell_type": "code",
   "execution_count": 22,
   "id": "0b53dc3a-2edc-431d-800e-8d593479be87",
   "metadata": {},
   "outputs": [],
   "source": [
    "n_interacted_with_enviroment = 3\n",
    "x0 = np.array([0.1, 0.2, 0.3])\n",
    "x_bounds = ((0, 1), (0, 1), (0, 1))\n",
    "\n",
    "\n",
    "def fun(x):\n",
    "    _features = x.reshape(-1, n_interacted_with_enviroment)\n",
    "    n_peaks = _features.shape[0]\n",
    "    if _features.shape[1] != length:\n",
    "        _features = np.hstack(\n",
    "            (np.zeros((n_peaks, length - n_interacted_with_enviroment)), _features)\n",
    "        )\n",
    "    _features = tuple([tuple(row) for row in _features])\n",
    "\n",
    "    _task = TransferTask(\n",
    "        problem=problem,\n",
    "        transmission_time=transmission_time,\n",
    "        tuning_time=tuning_time,\n",
    "        features=_features,\n",
    "    )\n",
    "    r = np.sum(_task.perfect_transferred_state_residuals())\n",
    "    return r"
   ]
  },
  {
   "cell_type": "markdown",
   "id": "e7c36318-54ce-4dc4-af71-0fc3c44e93b4",
   "metadata": {},
   "source": [
    "**Minimize with L-BFGS-B**"
   ]
  },
  {
   "cell_type": "code",
   "execution_count": 23,
   "id": "cdcc68b1-e8ad-46b8-984c-7ebf1212bff5",
   "metadata": {},
   "outputs": [
    {
     "data": {
      "text/plain": [
       "  message: CONVERGENCE: NORM_OF_PROJECTED_GRADIENT_<=_PGTOL\n",
       "  success: True\n",
       "   status: 0\n",
       "      fun: 0.3729342354765576\n",
       "        x: [ 1.000e+00  1.000e+00  1.000e+00]\n",
       "      nit: 3\n",
       "      jac: [-1.463e-01 -1.624e-01 -2.445e-02]\n",
       "     nfev: 24\n",
       "     njev: 6\n",
       " hess_inv: <3x3 LbfgsInvHessProduct with dtype=float64>"
      ]
     },
     "execution_count": 23,
     "metadata": {},
     "output_type": "execute_result"
    }
   ],
   "source": [
    "res = optimize.minimize(fun, x0, bounds=x_bounds, method=\"L-BFGS-B\")\n",
    "res"
   ]
  },
  {
   "cell_type": "markdown",
   "id": "10d9cbc2-009f-4b3a-ae72-602b5a924668",
   "metadata": {},
   "source": [
    "**Search optimal with bruteforce**"
   ]
  },
  {
   "cell_type": "code",
   "execution_count": 24,
   "id": "75bd18f8-51e3-4e2b-a90d-688b4c52c4a9",
   "metadata": {},
   "outputs": [
    {
     "name": "stdout",
     "output_type": "stream",
     "text": [
      "CPU times: user 26.7 s, sys: 257 ms, total: 27 s\n",
      "Wall time: 26.9 s\n"
     ]
    },
    {
     "data": {
      "text/plain": [
       " fun: 0.37846435748740803\n",
       "   x: [ 9.993e-01  9.880e-01  8.574e-01]"
      ]
     },
     "execution_count": 24,
     "metadata": {},
     "output_type": "execute_result"
    }
   ],
   "source": [
    "%%time\n",
    "res = brute_random(fun, ranges=x_bounds, verbose=False, no_local_search=True, maxiter=int(1e4))\n",
    "res"
   ]
  }
 ],
 "metadata": {
  "kernelspec": {
   "display_name": "quanty-transfer-py3.10",
   "language": "python",
   "name": "quanty-transfer-py3.10"
  },
  "language_info": {
   "codemirror_mode": {
    "name": "ipython",
    "version": 3
   },
   "file_extension": ".py",
   "mimetype": "text/x-python",
   "name": "python",
   "nbconvert_exporter": "python",
   "pygments_lexer": "ipython3",
   "version": "3.10.16"
  }
 },
 "nbformat": 4,
 "nbformat_minor": 5
}
